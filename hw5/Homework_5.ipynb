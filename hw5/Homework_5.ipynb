{
 "cells": [
  {
   "cell_type": "code",
   "execution_count": 1,
   "id": "6d66a63a",
   "metadata": {},
   "outputs": [],
   "source": [
    "%matplotlib inline\n",
    "import numpy as np\n",
    "import matplotlib.pyplot as plt"
   ]
  },
  {
   "cell_type": "markdown",
   "id": "fa5bdbad",
   "metadata": {},
   "source": [
    "## Define the function"
   ]
  },
  {
   "cell_type": "code",
   "execution_count": 2,
   "id": "60b3cfbc",
   "metadata": {},
   "outputs": [],
   "source": [
    "def function(x):\n",
    "    return np.exp(-2*x) * np.cos(10*x)"
   ]
  },
  {
   "cell_type": "code",
   "execution_count": 14,
   "id": "5ab8e376",
   "metadata": {},
   "outputs": [],
   "source": [
    "def function_integral(x):\n",
    "    return (np.exp(-2*x))*(5*np.sin(10*x) - np.cos(10*x))/52"
   ]
  },
  {
   "cell_type": "markdown",
   "id": "8d918404",
   "metadata": {},
   "source": [
    "## Define the Trapezoid Core"
   ]
  },
  {
   "cell_type": "code",
   "execution_count": 5,
   "id": "b6f1136a",
   "metadata": {},
   "outputs": [],
   "source": [
    "def trapezoid_core(f, x, h):\n",
    "    return 0.5*h*(f(x+h) + f(x))"
   ]
  },
  {
   "cell_type": "markdown",
   "id": "c03823dc",
   "metadata": {},
   "source": [
    "## Define Wrapper Function for Trapezoid Method"
   ]
  },
  {
   "cell_type": "code",
   "execution_count": 6,
   "id": "e5f5c97c",
   "metadata": {},
   "outputs": [],
   "source": [
    "def trapezoid_method(f, a, b, N):\n",
    "    # f == function to integrate\n",
    "    # a == lower limit of integration\n",
    "    # b == upper limit of integration\n",
    "    # N == number of function evaluations to use\n",
    "    \n",
    "    #x values to perform trapezoid rule\n",
    "    x = np.linspace(a, b, N)\n",
    "    h = x[1] - x[0]\n",
    "    \n",
    "    #the value of the integral\n",
    "    Fint = 0.0\n",
    "    \n",
    "    #perform the integral\n",
    "    for i in range(0, len(x) - 1, 1):\n",
    "        Fint += trapezoid_core(f, x[i], h)\n",
    "        \n",
    "    #the answer\n",
    "    return Fint"
   ]
  },
  {
   "cell_type": "markdown",
   "id": "02cc6d7f",
   "metadata": {},
   "source": [
    "## Define the Simpson's Method"
   ]
  },
  {
   "cell_type": "code",
   "execution_count": 7,
   "id": "71c689c2",
   "metadata": {},
   "outputs": [],
   "source": [
    "def simpson_core(f, x, h):\n",
    "    return h*(f(x) + 4*f(x+h) + f(x+2*h)) / 3.0"
   ]
  },
  {
   "cell_type": "markdown",
   "id": "712ab984",
   "metadata": {},
   "source": [
    "## Wrapper for Simpson's Method"
   ]
  },
  {
   "cell_type": "code",
   "execution_count": 8,
   "id": "0aa0effc",
   "metadata": {},
   "outputs": [],
   "source": [
    "def simpsons_method(f, a, b, N):\n",
    "    # f == function to integrate\n",
    "    # a == lower limit of integration\n",
    "    # b == upper limit of integration\n",
    "    # N == number of function evaluations to use\n",
    "    # note the number of chunks will be N - 1\n",
    "    # so if N is odd, then we don't need to adjust the last segment\n",
    "    \n",
    "    #x values to perform simpsons rule\n",
    "    x = np.linspace(a, b, N)\n",
    "    h = x[1] - x[0]\n",
    "    \n",
    "    #the value of the integral\n",
    "    Fint = 0.0\n",
    "    \n",
    "    #perform the integral\n",
    "    for i in range(0, len(x) - 2, 2):\n",
    "        Fint += simpson_core(f, x[i], h)\n",
    "        \n",
    "    #apply simpson's rule over the last interval if N is even\n",
    "    if((N % 2) == 0):\n",
    "        Fint += simpson_core(f, x[-2], 0.5*h)\n",
    "        \n",
    "    return Fint"
   ]
  },
  {
   "cell_type": "markdown",
   "id": "ae4a5a18",
   "metadata": {},
   "source": [
    "## Romberg Integration"
   ]
  },
  {
   "cell_type": "code",
   "execution_count": 9,
   "id": "abf1a9b0",
   "metadata": {},
   "outputs": [],
   "source": [
    "def romberg_core(f, a, b, i):\n",
    "    \n",
    "    #the difference b - a\n",
    "    h = b - a\n",
    "    \n",
    "    #the increment between new func evals\n",
    "    dh = h / 2.**(i)\n",
    "    \n",
    "    #the cofactor\n",
    "    K = h / 2.**(i+1)\n",
    "    \n",
    "    #the function evaluations\n",
    "    M = 0.0\n",
    "    for j in range(2**i):\n",
    "        M += f(a + 0.5*dh + j*dh)\n",
    "        \n",
    "    #the answer\n",
    "    return K * M"
   ]
  },
  {
   "cell_type": "markdown",
   "id": "cd4d9ed4",
   "metadata": {},
   "source": [
    "## Romberg Wrapper Function"
   ]
  },
  {
   "cell_type": "code",
   "execution_count": 12,
   "id": "63056340",
   "metadata": {},
   "outputs": [],
   "source": [
    "def romberg_integration(f, a, b, tol):\n",
    "    \n",
    "    #define an iteration variable\n",
    "    i = 0 \n",
    "    \n",
    "    #define a maximum number of iterations\n",
    "    imax = 1000\n",
    "    \n",
    "    #define an error estimate, set to a large value\n",
    "    delta = 100.0 * np.fabs(tol)\n",
    "    \n",
    "    #set an array if integral answers\n",
    "    I = np.zeros(imax, dtype = float)\n",
    "    \n",
    "    #get the zeroth romberg iteration\n",
    "    I[0] = 0.5*(b-a)*(f(a) + f(b))\n",
    "    \n",
    "    #iterate by 1\n",
    "    i += 1\n",
    "    \n",
    "    while(delta > tol):\n",
    "        \n",
    "        #find this romberg iteration\n",
    "        I[i] = 0.5 * I[i-1] + romberg_core(f, a, b, i)\n",
    "        \n",
    "        #compute the new fractional error estimate\n",
    "        delta = np.fabs( (I[i] - I[i-1]) / I[i] )\n",
    "        \n",
    "#        print(i, I[i], I[i-1], delta)\n",
    "        \n",
    "        if(delta > tol):\n",
    "            \n",
    "            #iterate \n",
    "            i += 1\n",
    "            \n",
    "            #if we've reached the max iterations\n",
    "            if(i > imax):\n",
    "                print(\"Max iterations reached.\")\n",
    "                raise StopIteration(\"Stopping iterations after \", i)\n",
    "                \n",
    "    print('Romberg Integration done with', i, 'iterations')\n",
    "    return I[i]"
   ]
  },
  {
   "cell_type": "markdown",
   "id": "4aacccf1",
   "metadata": {},
   "source": [
    "## Confirm Answer"
   ]
  },
  {
   "cell_type": "code",
   "execution_count": 15,
   "id": "ce835cd5",
   "metadata": {},
   "outputs": [
    {
     "data": {
      "text/plain": [
       "0.019194856870544078"
      ]
     },
     "execution_count": 15,
     "metadata": {},
     "output_type": "execute_result"
    }
   ],
   "source": [
    "answer = function_integral(np.pi) - function_integral(0)\n",
    "answer"
   ]
  },
  {
   "cell_type": "markdown",
   "id": "71f1f5b5",
   "metadata": {},
   "source": [
    "## Romberg Integration"
   ]
  },
  {
   "cell_type": "code",
   "execution_count": 16,
   "id": "99a2cdd5",
   "metadata": {},
   "outputs": [
    {
     "name": "stdout",
     "output_type": "stream",
     "text": [
      "Romberg Integration done with 26 iterations\n",
      "0.019194869607236313\n"
     ]
    }
   ],
   "source": [
    "tolerance = 1.0e-6\n",
    "a = 0\n",
    "b = np.pi\n",
    "RI = romberg_integration(function, a, b, tolerance)\n",
    "print(RI)\n"
   ]
  },
  {
   "cell_type": "markdown",
   "id": "a94cf64b",
   "metadata": {},
   "source": [
    "## Trapezoid Method"
   ]
  },
  {
   "cell_type": "code",
   "execution_count": 18,
   "id": "14da35de",
   "metadata": {},
   "outputs": [
    {
     "name": "stdout",
     "output_type": "stream",
     "text": [
      "0.01919495953857451\n"
     ]
    }
   ],
   "source": [
    "print(trapezoid_method(function, a, b, 4000))"
   ]
  },
  {
   "cell_type": "markdown",
   "id": "1a812a55",
   "metadata": {},
   "source": [
    "### Took 4000 evaluations for T.M. to reach specified accuracy"
   ]
  },
  {
   "cell_type": "markdown",
   "id": "878dd24a",
   "metadata": {},
   "source": [
    "## Simpson's Method"
   ]
  },
  {
   "cell_type": "code",
   "execution_count": 20,
   "id": "acd8616f",
   "metadata": {},
   "outputs": [
    {
     "name": "stdout",
     "output_type": "stream",
     "text": [
      "0.01919485170855182\n"
     ]
    }
   ],
   "source": [
    "print(simpsons_method(function, a, b, 500))"
   ]
  },
  {
   "cell_type": "code",
   "execution_count": 21,
   "id": "b8c41169",
   "metadata": {},
   "outputs": [],
   "source": [
    "## Took 500 evalutations for S.M. to reach specified accuracy"
   ]
  },
  {
   "cell_type": "code",
   "execution_count": null,
   "id": "8fd3f800",
   "metadata": {},
   "outputs": [],
   "source": []
  }
 ],
 "metadata": {
  "kernelspec": {
   "display_name": "Python 3 (ipykernel)",
   "language": "python",
   "name": "python3"
  },
  "language_info": {
   "codemirror_mode": {
    "name": "ipython",
    "version": 3
   },
   "file_extension": ".py",
   "mimetype": "text/x-python",
   "name": "python",
   "nbconvert_exporter": "python",
   "pygments_lexer": "ipython3",
   "version": "3.9.7"
  }
 },
 "nbformat": 4,
 "nbformat_minor": 5
}
