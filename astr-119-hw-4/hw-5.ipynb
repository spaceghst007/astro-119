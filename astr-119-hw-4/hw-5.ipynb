{
 "cells": [
  {
   "cell_type": "markdown",
   "id": "691550ad",
   "metadata": {},
   "source": [
    "# HW 5"
   ]
  },
  {
   "cell_type": "markdown",
   "id": "726d480c",
   "metadata": {},
   "source": [
    "### As per usual"
   ]
  },
  {
   "cell_type": "code",
   "execution_count": null,
   "id": "687b5303",
   "metadata": {},
   "outputs": [],
   "source": [
    "%matplotlib inline\n",
    "import numpy as np\n",
    "import matplotlib.pyplot as plt"
   ]
  },
  {
   "cell_type": "markdown",
   "id": "6b63150f",
   "metadata": {},
   "source": [
    "## Define the function"
   ]
  },
  {
   "cell_type": "code",
   "execution_count": null,
   "id": "4ec1ad0b",
   "metadata": {},
   "outputs": [],
   "source": [
    "def function(x):\n",
    "    return np.exp(-2*x) * np.cos(10*x)"
   ]
  },
  {
   "cell_type": "code",
   "execution_count": null,
   "id": "7d034eba",
   "metadata": {},
   "outputs": [],
   "source": [
    "def function_integral(x):\n",
    "    return (np.exp(-2*x))*(5*np.sin(10*x) - np.cos(10*x))/52"
   ]
  },
  {
   "cell_type": "markdown",
   "id": "0a7f9892",
   "metadata": {},
   "source": [
    "## Define the Trapezoid Core"
   ]
  },
  {
   "cell_type": "code",
   "execution_count": null,
   "id": "63b82c9e",
   "metadata": {},
   "outputs": [],
   "source": [
    "def trapezoid_core(f, x, h):\n",
    "    return 0.5*h*(f(x+h) + f(x))"
   ]
  },
  {
   "cell_type": "markdown",
   "id": "df9bee9e",
   "metadata": {},
   "source": [
    "## Define Wrapper Function for Trapezoid Method"
   ]
  },
  {
   "cell_type": "code",
   "execution_count": null,
   "id": "6cfe9de3",
   "metadata": {},
   "outputs": [],
   "source": [
    "def trapezoid_method(f, a, b, N):\n",
    "    # f == function to integrate\n",
    "    # a == lower limit of integration\n",
    "    # b == upper limit of integration\n",
    "    # N == number of function evaluations to use\n",
    "    \n",
    "    #x values to perform trapezoid rule\n",
    "    x = np.linspace(a, b, N)\n",
    "    h = x[1] - x[0]\n",
    "    \n",
    "    #the value of the integral\n",
    "    Fint = 0.0\n",
    "    \n",
    "    #perform the integral\n",
    "    for i in range(0, len(x) - 1, 1):\n",
    "        Fint += trapezoid_core(f, x[i], h)\n",
    "        \n",
    "    #the answer\n",
    "    return Fint"
   ]
  },
  {
   "cell_type": "markdown",
   "id": "2f97bc15",
   "metadata": {},
   "source": [
    "## Define the Simpson's Method"
   ]
  },
  {
   "cell_type": "code",
   "execution_count": null,
   "id": "6bca4372",
   "metadata": {},
   "outputs": [],
   "source": [
    "def simpson_core(f, x, h):\n",
    "    return h*(f(x) + 4*f(x+h) + f(x+2*h)) / 3.0"
   ]
  },
  {
   "cell_type": "markdown",
   "id": "57a25cb4",
   "metadata": {},
   "source": [
    "## Wrapper for Simpson's Method"
   ]
  },
  {
   "cell_type": "code",
   "execution_count": null,
   "id": "7deb3555",
   "metadata": {},
   "outputs": [],
   "source": [
    "def simpsons_method(f, a, b, N):\n",
    "    # f == function to integrate\n",
    "    # a == lower limit of integration\n",
    "    # b == upper limit of integration\n",
    "    # N == number of function evaluations to use\n",
    "    # note the number of chunks will be N - 1\n",
    "    # so if N is odd, then we don't need to adjust the last segment\n",
    "    \n",
    "    #x values to perform simpsons rule\n",
    "    x = np.linspace(a, b, N)\n",
    "    h = x[1] - x[0]\n",
    "    \n",
    "    #the value of the integral\n",
    "    Fint = 0.0\n",
    "    \n",
    "    #perform the integral\n",
    "    for i in range(0, len(x) - 2, 2):\n",
    "        Fint += simpson_core(f, x[i], h)\n",
    "        \n",
    "    #apply simpson's rule over the last interval if N is even\n",
    "    if((N % 2) == 0):\n",
    "        Fint += simpson_core(f, x[-2], 0.5*h)\n",
    "        \n",
    "    return Fint"
   ]
  },
  {
   "cell_type": "markdown",
   "id": "c96b22fc",
   "metadata": {},
   "source": [
    "## Romberg Integration"
   ]
  },
  {
   "cell_type": "code",
   "execution_count": null,
   "id": "e9be65a5",
   "metadata": {},
   "outputs": [],
   "source": [
    "def romberg_core(f, a, b, i):\n",
    "    \n",
    "    #the difference b - a\n",
    "    h = b - a\n",
    "    \n",
    "    #the increment between new func evals\n",
    "    dh = h / 2.**(i)\n",
    "    \n",
    "    #the cofactor\n",
    "    K = h / 2.**(i+1)\n",
    "    \n",
    "    #the function evaluations\n",
    "    M = 0.0\n",
    "    for j in range(2**i):\n",
    "        M += f(a + 0.5*dh + j*dh)\n",
    "        \n",
    "    #the answer\n",
    "    return K * M"
   ]
  },
  {
   "cell_type": "markdown",
   "id": "56e08d6d",
   "metadata": {},
   "source": [
    "## Romberg Wrapper Function"
   ]
  },
  {
   "cell_type": "code",
   "execution_count": null,
   "id": "d1f9cba8",
   "metadata": {},
   "outputs": [],
   "source": [
    "def romberg_integration(f, a, b, tol):\n",
    "    \n",
    "    #define an iteration variable\n",
    "    i = 0 \n",
    "    \n",
    "    #define a maximum number of iterations\n",
    "    imax = 1000\n",
    "    \n",
    "    #define an error estimate, set to a large value\n",
    "    delta = 100.0 * np.fabs(tol)\n",
    "    \n",
    "    #set an array if integral answers\n",
    "    I = np.zeros(imax, dtype = float)\n",
    "    \n",
    "    #get the zeroth romberg iteration\n",
    "    I[0] = 0.5*(b-a)*(f(a) + f(b))\n",
    "    \n",
    "    #iterate by 1\n",
    "    i += 1\n",
    "    \n",
    "    while(delta > tol):\n",
    "        \n",
    "        #find this romberg iteration\n",
    "        I[i] = 0.5 * I[i-1] + romberg_core(f, a, b, i)\n",
    "        \n",
    "        #compute the new fractional error estimate\n",
    "        delta = np.fabs( (I[i] - I[i-1]) / I[i] )\n",
    "        \n",
    "#        print(i, I[i], I[i-1], delta)\n",
    "        \n",
    "        if(delta > tol):\n",
    "            \n",
    "            #iterate \n",
    "            i += 1\n",
    "            \n",
    "            #if we've reached the max iterations\n",
    "            if(i > imax):\n",
    "                print(\"Max iterations reached.\")\n",
    "                raise StopIteration(\"Stopping iterations after \", i)\n",
    "                \n",
    "    print('Romberg Integration done with', i, 'iterations')\n",
    "    return I[i]"
   ]
  },
  {
   "cell_type": "markdown",
   "id": "cfd2937a",
   "metadata": {},
   "source": [
    "## Actual answer to confirm"
   ]
  },
  {
   "cell_type": "code",
   "execution_count": null,
   "id": "dd6e9416",
   "metadata": {},
   "outputs": [],
   "source": [
    "answer = function_integral(np.pi) - function_integral(0)\n",
    "answer"
   ]
  },
  {
   "cell_type": "markdown",
   "id": "5009ccc8",
   "metadata": {},
   "source": [
    "## Romberg Integration"
   ]
  },
  {
   "cell_type": "code",
   "execution_count": null,
   "id": "77f92194",
   "metadata": {},
   "outputs": [],
   "source": [
    "tolerance = 1.0e-6\n",
    "a = 0\n",
    "b = np.pi\n",
    "RI = romberg_integration(function, a, b, tolerance)\n",
    "print(RI)"
   ]
  },
  {
   "cell_type": "markdown",
   "id": "35a0bb4c",
   "metadata": {},
   "source": [
    "## Trapezoid Method"
   ]
  },
  {
   "cell_type": "code",
   "execution_count": null,
   "id": "af3188bf",
   "metadata": {},
   "outputs": [],
   "source": [
    "print(trapezoid_method(function, a, b, 4000))"
   ]
  },
  {
   "cell_type": "markdown",
   "id": "8a4114bf",
   "metadata": {},
   "source": [
    "It took 4000 evaluations for the Trapezoid Method to reach the specified accuracy of 1.0e-6"
   ]
  },
  {
   "cell_type": "markdown",
   "id": "10a8738e",
   "metadata": {},
   "source": [
    "## Simpson's Method"
   ]
  },
  {
   "cell_type": "code",
   "execution_count": null,
   "id": "bf58b057",
   "metadata": {},
   "outputs": [],
   "source": [
    "print(simpsons_method(function, a, b, 500))"
   ]
  },
  {
   "cell_type": "markdown",
   "id": "1d9891ba",
   "metadata": {},
   "source": [
    "It took 500 evaluations for Simpson's Method to reach the specified accuracy of 1.0e-6"
   ]
  },
  {
   "cell_type": "markdown",
   "id": "a5ddf0f7",
   "metadata": {},
   "source": [
    "The Romberg Integration method took the least iterations, but it took my computer the longest to run!"
   ]
  },
  {
   "cell_type": "code",
   "execution_count": null,
   "id": "42617d37",
   "metadata": {},
   "outputs": [],
   "source": []
  }
 ],
 "metadata": {
  "kernelspec": {
   "display_name": "Python 3 (ipykernel)",
   "language": "python",
   "name": "python3"
  },
  "language_info": {
   "codemirror_mode": {
    "name": "ipython",
    "version": 3
   },
   "file_extension": ".py",
   "mimetype": "text/x-python",
   "name": "python",
   "nbconvert_exporter": "python",
   "pygments_lexer": "ipython3",
   "version": "3.9.7"
  }
 },
 "nbformat": 4,
 "nbformat_minor": 5
}
