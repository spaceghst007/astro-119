{
 "cells": [
  {
   "cell_type": "markdown",
   "id": "a9c92fa1",
   "metadata": {},
   "source": [
    "### Example of performing linear least squares fitting"
   ]
  },
  {
   "cell_type": "markdown",
   "id": "d18cece0",
   "metadata": {},
   "source": [
    "First we import numpy and matplotlib as usual."
   ]
  },
  {
   "cell_type": "code",
   "execution_count": null,
   "id": "862e5ea8",
   "metadata": {},
   "outputs": [],
   "source": [
    "%matplotlib inline\n",
    "import matplotlib.pyplot as plt\n",
    "import numpy as np"
   ]
  },
  {
   "cell_type": "markdown",
   "id": "003f719a",
   "metadata": {},
   "source": [
    "Now, lets generate some random data about a trend line."
   ]
  },
  {
   "cell_type": "code",
   "execution_count": null,
   "id": "46039776",
   "metadata": {},
   "outputs": [],
   "source": [
    "#set a random number seed\n",
    "np.random.seed(119)\n",
    "\n",
    "#set number of data points\n",
    "npoints = 50\n",
    "\n",
    "#set x\n",
    "x = np.linspace(0,10.,npoints)\n",
    "\n",
    "#set slope, intercept, and scatter rms\n",
    "m = 2.0\n",
    "b = 1.0\n",
    "sigma = 2.0\n",
    "\n",
    "#generate y points\n",
    "y = m*x + b +np.random.normal(scale=sigma,size=npoints)\n",
    "y_err = np.full(npoints,sigma)"
   ]
  },
  {
   "cell_type": "markdown",
   "id": "4c6c37fb",
   "metadata": {},
   "source": [
    "### Just plot the data!"
   ]
  },
  {
   "cell_type": "code",
   "execution_count": null,
   "id": "cf09ed72",
   "metadata": {},
   "outputs": [],
   "source": [
    "f = plt.figure(figsize=(7,7))\n",
    "plt.errorbar(x,y,sigma,fmt='o')\n",
    "plt.xlabel('x')\n",
    "plt.ylabel('y')\n",
    "plt.show()"
   ]
  },
  {
   "cell_type": "markdown",
   "id": "d2f90df1",
   "metadata": {},
   "source": [
    "### Method #1, polyfit()"
   ]
  },
  {
   "cell_type": "code",
   "execution_count": null,
   "id": "56afaaa0",
   "metadata": {},
   "outputs": [],
   "source": [
    "m_fit, b_fit = np.poly1d(np.polyfit(x, y, 1, w=1./y_err))  #weighted linear fit\n",
    "print(m_fit, b_fit)\n",
    "\n",
    "y_fit = m_fit * x + b_fit"
   ]
  },
  {
   "cell_type": "markdown",
   "id": "6be47efe",
   "metadata": {},
   "source": [
    "### Plot result"
   ]
  },
  {
   "cell_type": "code",
   "execution_count": null,
   "id": "2b56d3da",
   "metadata": {},
   "outputs": [],
   "source": [
    "f = plt.figure(figsize=(7,7))\n",
    "plt.errorbar(x,y,yerr=y_err,fmt='o',label='data')\n",
    "plt.plot(x,y_fit,label='fit')\n",
    "plt.xlabel('x')\n",
    "plt.ylabel('y')\n",
    "plt.legend(loc=2,frameon=False)"
   ]
  },
  {
   "cell_type": "markdown",
   "id": "e39297f5",
   "metadata": {},
   "source": [
    "### Method #2, scipy + optimize"
   ]
  },
  {
   "cell_type": "code",
   "execution_count": null,
   "id": "4ff8c96a",
   "metadata": {},
   "outputs": [],
   "source": [
    "#import optimize from scipy\n",
    "from scipy import optimize\n",
    "\n",
    "#define the function to fit\n",
    "def f_line(x, m, b):\n",
    "    return m*x + b\n",
    "\n",
    "#perform the fit\n",
    "params, params_cov = optimize.curve_fit(f_line,x,y,sigma=y_err)\n",
    "\n",
    "m_fit = params[0]\n",
    "b_fit = params[1]\n",
    "\n",
    "print(m_fit,b_fit)"
   ]
  },
  {
   "cell_type": "code",
   "execution_count": null,
   "id": "c3b72994",
   "metadata": {},
   "outputs": [],
   "source": [
    "f = plt.figure(figsize=(7,7))\n",
    "plt.errorbar(x,y,yerr=y_err,fmt='o',label='data')\n",
    "plt.plot(x,y_fit,label='fit')\n",
    "#plt.plot(x,m_fit_a*x + b_fit_s,label='fit using scipy')\n",
    "\n",
    "plt.xlabel('x')\n",
    "plt.ylabel('y')\n",
    "plt.legend(loc=2,frameon=False)"
   ]
  },
  {
   "cell_type": "markdown",
   "id": "950aee44",
   "metadata": {},
   "source": [
    "## We can perfrom much more complicated fits..."
   ]
  },
  {
   "cell_type": "code",
   "execution_count": null,
   "id": "6abacd0f",
   "metadata": {},
   "outputs": [],
   "source": [
    "#redfine x and y\n",
    "npoints = 50\n",
    "x = np.linspace(0.,2*np.pi,npoints)\n",
    "\n",
    "#make y a complicated function\n",
    "a = 3.4\n",
    "b = 2.1\n",
    "c = 0.27\n",
    "d = -1.3\n",
    "sig = 0.6\n",
    "\n",
    "y = a * np.sin( b*x + c) + d + np.random.normal(scale=sig,size=npoints)\n",
    "y_err = np.full(npoints,sig)\n",
    "\n",
    "f = plt.figure(figsize=(7,7))\n",
    "plt.errorbar(x,y,yerr=y_err,fmt='o')\n",
    "plt.xlabel('x')\n",
    "plt.ylabel('y')"
   ]
  },
  {
   "cell_type": "markdown",
   "id": "a36176e3",
   "metadata": {},
   "source": [
    "## Perform a fit using scipy"
   ]
  },
  {
   "cell_type": "code",
   "execution_count": null,
   "id": "28bb0cf5",
   "metadata": {},
   "outputs": [],
   "source": [
    "#import optiimize from scipy\n",
    "from scipy import optimize\n",
    "\n",
    "#define the function to fit\n",
    "def f_line(x, a, b, c, d):\n",
    "    return a * np.sin( b*c + c) + d\n",
    "\n",
    "#perfrom the fit\n",
    "params, params_cov = optimize.curve_fit(f_line,x,y,sigma=y_err,p0=[1,2.,0.1,-0.1])\n",
    "\n",
    "a_fit = params[0]\n",
    "b_fit = params[1]\n",
    "c_fit = params[2]\n",
    "d_fit = params[3]\n",
    "\n",
    "print(a_fit,b_fit,c_fit,d_fit)\n",
    "\n",
    "y_fit = a_fit * np.sin(b_fit * x + c_fit) + d_fit"
   ]
  },
  {
   "cell_type": "code",
   "execution_count": null,
   "id": "87eb62fc",
   "metadata": {},
   "outputs": [],
   "source": [
    "f = plt.figure(figsize=(7,7))\n",
    "plt.errorbar(x,y,yerr=y_err,fmt='o',label='data')\n",
    "plt.plot(x,y_fit,label='fit')\n",
    "plt.xlabel('x')\n",
    "plt.ylabel('y')\n",
    "plt.legend(loc=0,frameon=False)"
   ]
  },
  {
   "cell_type": "code",
   "execution_count": null,
   "id": "3d16044e",
   "metadata": {},
   "outputs": [],
   "source": []
  }
 ],
 "metadata": {
  "kernelspec": {
   "display_name": "Python 3 (ipykernel)",
   "language": "python",
   "name": "python3"
  },
  "language_info": {
   "codemirror_mode": {
    "name": "ipython",
    "version": 3
   },
   "file_extension": ".py",
   "mimetype": "text/x-python",
   "name": "python",
   "nbconvert_exporter": "python",
   "pygments_lexer": "ipython3",
   "version": "3.9.5"
  }
 },
 "nbformat": 4,
 "nbformat_minor": 5
}
