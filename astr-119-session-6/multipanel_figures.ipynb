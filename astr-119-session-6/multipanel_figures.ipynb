{
 "cells": [
  {
   "cell_type": "markdown",
   "id": "453e370a",
   "metadata": {},
   "source": [
    "# Making multipanel plots with matplotlib"
   ]
  },
  {
   "cell_type": "code",
   "execution_count": null,
   "id": "e5e08eb5",
   "metadata": {},
   "outputs": [],
   "source": []
  },
  {
   "cell_type": "markdown",
   "id": "60e4a1ab",
   "metadata": {},
   "source": [
    "First, we import numpy and matplot lib as usual"
   ]
  },
  {
   "cell_type": "code",
   "execution_count": null,
   "id": "64a808fb",
   "metadata": {},
   "outputs": [],
   "source": [
    "%matplotlib inline\n",
    "import numpy as np\n",
    "import matplotlib.pyplot as plt"
   ]
  },
  {
   "cell_type": "markdown",
   "id": "55586c57",
   "metadata": {},
   "source": [
    "Then we define an array of angles, and their sines and cosines using numpy. This time we will use linspace"
   ]
  },
  {
   "cell_type": "code",
   "execution_count": null,
   "id": "4f0f6730",
   "metadata": {},
   "outputs": [],
   "source": [
    "x = np.linspace(0,2*np.pi,100)\n",
    "print(x[-1], 2*np.pi)\n",
    "\n",
    "y = np.sin(x)\n",
    "z = np.cos(x)\n",
    "w = np.sin(4*x)\n",
    "v = np.cos(4*x)"
   ]
  },
  {
   "cell_type": "code",
   "execution_count": null,
   "id": "947db115",
   "metadata": {},
   "outputs": [],
   "source": [
    "x = np.linspace(0,2*np.pi,100)\n",
    "print(\"First element of x = \",x[0])\n",
    "print(\"Last element of x = \",x[-1])\n",
    "print(\"2*pi = \",2*np.pi)"
   ]
  },
  {
   "cell_type": "markdown",
   "id": "48d400ce",
   "metadata": {},
   "source": [
    "Now, let's make a two panel plot side-by-side"
   ]
  },
  {
   "cell_type": "code",
   "execution_count": null,
   "id": "8358d1c6",
   "metadata": {},
   "outputs": [],
   "source": [
    "#call subplots to generate a multipanel figure. This means 1 row, 2 columns of figures\n",
    "f, axarr = plt.subplots(1, 2)\n",
    "\n",
    "#treat axarr as an array, from left to right\n",
    "\n",
    "#first panel\n",
    "axarr[0].plot(x, y)\n",
    "axarr[0].set_xlabel('x')\n",
    "axarr[0].set_ylabel('sin(x)')\n",
    "axarr[0].set_title(r'$\\sin(x)$')\n",
    "#second panel\n",
    "axarr[1].plot(x, z)\n",
    "axarr[1].set_xlabel('x')\n",
    "axarr[1].set_ylabel('cos(x)')\n",
    "axarr[1].set_title(r'$\\cos(x)$')"
   ]
  },
  {
   "cell_type": "markdown",
   "id": "bd315700",
   "metadata": {},
   "source": []
  },
  {
   "cell_type": "markdown",
   "id": "399f49aa",
   "metadata": {},
   "source": [
    "Here we can see that matplotlib has the panels too close together."
   ]
  },
  {
   "cell_type": "markdown",
   "id": "5fbc3deb",
   "metadata": {},
   "source": [
    "We can adjust that using the suybplots_adjust() function."
   ]
  },
  {
   "cell_type": "code",
   "execution_count": null,
   "id": "11b24ba5",
   "metadata": {},
   "outputs": [],
   "source": []
  },
  {
   "cell_type": "raw",
   "id": "17147142",
   "metadata": {},
   "source": []
  },
  {
   "cell_type": "code",
   "execution_count": null,
   "id": "c9a8f7db",
   "metadata": {},
   "outputs": [],
   "source": [
    "# call subplots to generate a multipanel figure. This means 1 row, 2 columns of figures\n",
    "f, axarr = plt.subplots(1, 2)\n",
    "\n",
    "#treat axarr as an array, from left to right\n",
    "\n",
    "#first panel\n",
    "axarr[0].plot(x, y)\n",
    "axarr[0].set_xlabel('x')\n",
    "axarr[0].set_ylabel('sin(x)')\n",
    "axarr[0].set_title(r'$\\cos(x)$')\n",
    "#second panel\n",
    "axarr[1].plot(x, z)\n",
    "axarr[1].set_xlabel('x')\n",
    "axarr[1].set_ylabel('cos(x)')\n",
    "axarr[1].set_title(r'$\\cos(x)$')\n",
    "\n",
    "#add more space between the figures\n",
    "f.subplots_adjust(wspace=0.4)"
   ]
  },
  {
   "cell_type": "code",
   "execution_count": null,
   "id": "d718bf1d",
   "metadata": {
    "scrolled": true
   },
   "outputs": [],
   "source": [
    "# call subplots to generate a multipanel figure. This means 1 row, 2 columns of figures\n",
    "f, axarr = plt.subplots(1, 2)\n",
    "\n",
    "#treat axarr as an array, from left to right\n",
    "\n",
    "#first panel\n",
    "axarr[0].plot(x, y)\n",
    "axarr[0].set_xlabel('x')\n",
    "axarr[0].set_ylabel('sin(x)')\n",
    "axarr[0].set_title(r'$\\cos(x)$')\n",
    "#second panel\n",
    "axarr[1].plot(x, z)\n",
    "axarr[1].set_xlabel('x')\n",
    "axarr[1].set_ylabel('cos(x)')\n",
    "axarr[1].set_title(r'$\\cos(x)$')\n",
    "\n",
    "#add more space between the figures\n",
    "f.subplots_adjust(wspace=0.4)\n",
    "\n",
    "#fix the axis ratio\n",
    "#here are two possible options\n",
    "axarr[0].set_aspect('equal')  #make the ratio of the tick units equal, a bit counter intuitive\n",
    "axarr[1].set_aspect(np.pi)    #make a square by setting the aspect to be the ratio of the tick unit range\n"
   ]
  },
  {
   "cell_type": "markdown",
   "id": "5de004e4",
   "metadata": {},
   "source": [
    "### Alright, lets keep the square figure, merge them into one, remove the titles and add legends"
   ]
  },
  {
   "cell_type": "code",
   "execution_count": null,
   "id": "c7f604cb",
   "metadata": {},
   "outputs": [],
   "source": [
    "#asjust the size of the figure\n",
    "fig = plt.figure(figsize=(6,6))\n",
    "\n",
    "plt.plot(x, y, label=r'$y = \\sin(x)$')  #add a label to the line\n",
    "plt.plot(x, z, label=r'$y = \\cos(x)$')  #add a label to the second line\n",
    "plt.plot(x, w, label=r'$y = \\sin(4x)$') #add a label to the third line\n",
    "plt.plot(x, v, label=r'$y = \\sin(4x)$') #add a label to the fourth line\n",
    "\n",
    "plt.xlabel(r'$x$')               #note set_xlabel vs. xlabel\n",
    "plt.ylabel(r'$y(x)$')\n",
    "plt.xlim([0,2*np.pi])\n",
    "plt.ylim([-1.2,1.2])\n",
    "plt.legend(loc=1,framealpha=0.95)\n",
    "\n",
    "#fix the axis ratio\n",
    "plt.gca().set_aspect(np.pi/1.2)"
   ]
  },
  {
   "cell_type": "code",
   "execution_count": null,
   "id": "5eb7f021",
   "metadata": {},
   "outputs": [],
   "source": []
  }
 ],
 "metadata": {
  "kernelspec": {
   "display_name": "Python 3 (ipykernel)",
   "language": "python",
   "name": "python3"
  },
  "language_info": {
   "codemirror_mode": {
    "name": "ipython",
    "version": 3
   },
   "file_extension": ".py",
   "mimetype": "text/x-python",
   "name": "python",
   "nbconvert_exporter": "python",
   "pygments_lexer": "ipython3",
   "version": "3.10.0"
  }
 },
 "nbformat": 4,
 "nbformat_minor": 5
}
