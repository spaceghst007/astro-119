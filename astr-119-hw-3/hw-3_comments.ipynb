{
 "cells": [
  {
   "cell_type": "code",
   "execution_count": null,
   "id": "b908113f",
   "metadata": {},
   "outputs": [],
   "source": [
    "%matplotlib inline\n",
    "import matplotlib.pyplot as plt        #import matplotlib\n",
    "import numpy as np                     #import numpy\n",
    "\n"
   ]
  },
  {
   "cell_type": "code",
   "execution_count": null,
   "id": "5787320e",
   "metadata": {
    "scrolled": true
   },
   "outputs": [],
   "source": [
    "x = np.linspace(0, 2*np.pi, 1000)  #set boundries for x\n",
    "y = np.linspace(-1, 10, 1000)      #set boundries for y\n",
    "\n",
    "# You can easily set plotting boundaries with a single command when you create your plots.\n",
    "# So you don't need this \"y\" array.  In fact, you never use it!\n",
    "\n",
    "a = 5.5*np.cos(2*x) + 5.5 ;        #assign variable to first function\n",
    "b = .02*np.exp(x)                  #assign variable to second function\n",
    "c = .25*x**2 + .1*np.sin(10*x)     #assign variable to third function\n",
    "\n",
    "plt.plot(x,a)                      #make a plot of function a\n",
    "plt.plot(x,b)                      #make a plof of function b\n",
    "plt.plot(x,c)                      #make a plot of function c\n",
    "plt.title('ASTR 119 HW-3')                  #Title of assignment\n",
    "plt.xlabel('Time in ASTR 119')     #label x axis\n",
    "plt.ylabel('Measures of Awesomeness') #label y axis\n",
    "plt.show()                          #show plots of each function\n",
    "\n",
    "###########\n",
    "# To set the x range and y range, try the following commands:\n",
    "plt.ylim([0,2*np.pi])\n",
    "plt.xlim([-1,10])\n",
    "###########"
   ]
  },
  {
   "cell_type": "code",
   "execution_count": null,
   "id": "afd92a38",
   "metadata": {},
   "outputs": [],
   "source": [
    "x = np.linspace(0, 2*np.pi, 1000)  #set boundries for x\n",
    "y = np.linspace(-1, 10, 1000)      #set boundries for y\n",
    "\n",
    "a = 5.5*np.cos(2*x) + 5.5 ;        #assign variable to first function\n",
    "b = .02*np.exp(x)                  #assign variable to second function\n",
    "c = .25*x**2 + .1*np.sin(10*x)     #assign variable to third function\n",
    "\n",
    "plt.plot(x,a)                      #make a plot of function a\n",
    "plt.plot(x,b)                      #make a plof of function b\n",
    "plt.plot(x,c)                      #make a plot of function c\n",
    "plt.title('ASTR 119 HW-3')                  #Title of assignment\n",
    "plt.xlabel('Time in ASTR 119')     #label x axis\n",
    "plt.ylabel('Measures of Awesomeness') #label y axis\n",
    "plt.show()                          #show plots of each function\n",
    "plt.savefig('sinx.png' , bbox_inches=\"tight\",dpi=600) #show resolution of "
   ]
  },
  {
   "cell_type": "code",
   "execution_count": null,
   "id": "0eabc706",
   "metadata": {},
   "outputs": [],
   "source": []
  }
 ],
 "metadata": {
  "kernelspec": {
   "display_name": "Python 3 (ipykernel)",
   "language": "python",
   "name": "python3"
  },
  "language_info": {
   "codemirror_mode": {
    "name": "ipython",
    "version": 3
   },
   "file_extension": ".py",
   "mimetype": "text/x-python",
   "name": "python",
   "nbconvert_exporter": "python",
   "pygments_lexer": "ipython3",
   "version": "3.9.7"
  }
 },
 "nbformat": 4,
 "nbformat_minor": 5
}
